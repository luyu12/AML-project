{
 "cells": [
  {
   "cell_type": "code",
   "execution_count": 16,
   "metadata": {
    "collapsed": true
   },
   "outputs": [],
   "source": [
    "import numpy as np\n",
    "from IPython import get_ipython\n",
    "get_ipython().run_line_magic('matplotlib', 'inline')"
   ]
  },
  {
   "cell_type": "code",
   "execution_count": 17,
   "metadata": {
    "collapsed": true
   },
   "outputs": [],
   "source": [
    "def isolet_generator():\n",
    "    \n",
    "    #load_data\n",
    "    dataset = np.genfromtxt('/Users/Irinaluu/Desktop/AML/project/isolet_data.data',\n",
    "                     dtype=None,\n",
    "                     delimiter=',')\n",
    "    dataset_2 = np.genfromtxt('/Users/Irinaluu/Desktop/AML/project/isolet5.data',\n",
    "                     dtype=None,\n",
    "                     delimiter=',')\n",
    "    data = np.vstack((dataset,dataset_2))\n",
    "    Y = data[:,-1].astype(int) \n",
    "    X = np.delete(data, -1, axis =1)\n",
    "    data_size = data.shape[0]\n",
    "    #permutation\n",
    "    shuffle = np.random.permutation(data_size)\n",
    "    X = X[shuffle]\n",
    "    Y = Y[shuffle]\n",
    "    del shuffle, data, dataset, dataset_2\n",
    "    \n",
    "    for i in range(data_size):\n",
    "        yield (X[i], Y[i])\n",
    "    "
   ]
  },
  {
   "cell_type": "code",
   "execution_count": 27,
   "metadata": {
    "collapsed": true
   },
   "outputs": [],
   "source": [
    "def mnist_generator():\n",
    "    \n",
    "    #load mnist\n",
    "    from sklearn.datasets import fetch_mldata\n",
    "    dataset = fetch_mldata(\"MNIST original\",data_home = 'dataset/mnist-original.mat')\n",
    "    data_size = dataset.target.shape[0]\n",
    "    #permutation\n",
    "    shuffle = np.random.permutation(data_size)\n",
    "    data = dataset.data[shuffle]\n",
    "    label = dataset.target[shuffle]\n",
    "    del shuffle, dataset\n",
    "    \n",
    "    #normalize\n",
    "    data = data/np.reshape(np.std(data, axis=1), (data_size, 1))\n",
    "    data = data-np.reshape(np.mean(data, axis=1), (data_size, 1))\n",
    "    '''\n",
    "    #resize 784 to 28*28\n",
    "    data2 = np.zeros((data_size, 28, 28))\n",
    "    for i in range (data_size):\n",
    "    data2[i, ] = np.reshape(data[i, ], (28, 28))\n",
    "    data = data2\n",
    "    del data2\n",
    "    '''\n",
    "    for i in range(data_size):\n",
    "        yield (data[i], label[i])\n"
   ]
  },
  {
   "cell_type": "code",
   "execution_count": 28,
   "metadata": {
    "collapsed": true
   },
   "outputs": [],
   "source": [
    "class OnlineLogistRegression(object):\n",
    "    \n",
    "    def __init__(self, lr=0.003):\n",
    "        self.w = .01 * (np.random.rand(617 + 1) - 0.5)\n",
    "        self.lr = lr\n",
    "        \n",
    "    def test(self, x):\n",
    "        n = x.shape[0]\n",
    "        A = np.concatenate((np.array([1]), x),axis=0)\n",
    "        y_hat = A.dot(self.w)\n",
    "        \n",
    "        return 1 / (1 + np.exp(-y_hat))\n",
    "        \n",
    "    def train(self, x, c):\n",
    "        n = x.shape[0]\n",
    "        A = np.concatenate((np.array([1]), x), axis=0)\n",
    "        y_hat = A.dot(self.w)\n",
    "        c_hat = 1 / (1 + np.exp(-y_hat))\n",
    "        \n",
    "        fgrad = A.T.dot(c_hat - c)\n",
    "        self.w = self.w - self.lr * fgrad"
   ]
  },
  {
   "cell_type": "code",
   "execution_count": 29,
   "metadata": {
    "collapsed": true
   },
   "outputs": [],
   "source": [
    "class Node(object):\n",
    "    \n",
    "    def __init__(self, node_index):\n",
    "        self.left = None\n",
    "        self.right = None\n",
    "        self.parent = None\n",
    "        self.n_all = 0\n",
    "        self.e_all = 0\n",
    "        self.n = []\n",
    "        self.e = []\n",
    "        self.class_list = []\n",
    "        self.node_index = node_index\n",
    "        self.model = OnlineLogistRegression()\n",
    "        \n",
    "    def setLeft(self, node):\n",
    "        self.left = node\n",
    "\n",
    "    def setRight(self, node):\n",
    "        self.right = node\n",
    "        \n",
    "    def setParent(self, node):\n",
    "        self.parent = node\n",
    "        \n",
    "    def testModel(self, x):\n",
    "        return self.model.test(x)\n",
    "    \n",
    "    def trainModel(self, x, c):\n",
    "        self.model.train(x, c)\n",
    "        \n",
    "    def addClass(self, class_name):\n",
    "        self.n.append(0)\n",
    "        self.e.append(0)\n",
    "        self.class_list.append(class_name)\n",
    "        \n",
    "    def updateExpectation(self, c, class_index_in_node):\n",
    "        self.n_all = self.n_all + 1\n",
    "        self.e_all = self.e_all + c\n",
    "        self.n[class_index_in_node] = self.n[class_index_in_node] + 1\n",
    "        self.e[class_index_in_node] = self.e[class_index_in_node] + c\n",
    "        \n",
    "    def findExpectationAll(self):\n",
    "        if self.n_all == 0:\n",
    "            return 0\n",
    "        else:\n",
    "            return self.e_all / self.n_all\n",
    "        \n",
    "    def findExpectationOneClass(self, class_index_in_node):\n",
    "        if self.n[class_index_in_node] == 0:\n",
    "            return 0\n",
    "        else:\n",
    "            return self.e[class_index_in_node] / self.n[class_index_in_node]\n",
    "    \n",
    "    def judgeInTrain(self, class_index_in_node):\n",
    "        #c == 0: left, c == 1: right\n",
    "        return int(self.findExpectationAll() <= self.findExpectationOneClass(class_index_in_node))\n",
    "    \n",
    "    def judgeInTest(self, x):\n",
    "        return int(self.findExpectationAll() <= self.testModel(x))"
   ]
  },
  {
   "cell_type": "code",
   "execution_count": 30,
   "metadata": {
    "collapsed": true
   },
   "outputs": [],
   "source": [
    "class Tree(object):\n",
    "    def __init__(self):\n",
    "        self.nodes = []\n",
    "        self.size = 0\n",
    "        self.root = Node(self.size)\n",
    "        self.nodes.append(self.root)\n",
    "        self.size = self.size + 1\n",
    "        \n",
    "    def giveBirth(self, node_index):\n",
    "        #node_index is index of node in self.nodes, who is going to give birth to left and right\n",
    "        #two new born nodes would be appended at the end of self.nodes\n",
    "        self.nodes.append(Node(self.size))\n",
    "        self.size = self.size + 1\n",
    "        self.nodes[node_index].setLeft(self.nodes[-1])\n",
    "        self.nodes[-1].setParent(self.nodes[node_index])\n",
    "        self.nodes.append(Node(self.size))\n",
    "        self.size = self.size + 1\n",
    "        self.nodes[node_index].setRight(self.nodes[-1])\n",
    "        self.nodes[-1].setParent(self.nodes[node_index])\n",
    "\n",
    "    def onlineTrain(self, xy, node):\n",
    "        x, y = xy\n",
    "        \n",
    "        #1:register if y is new in this node\n",
    "        if_register = (y not in node.class_list)\n",
    "        if if_register:\n",
    "            node.addClass(y)\n",
    "            \n",
    "        #2:judge (if current h(x) is above average)\n",
    "        class_index_in_node = node.class_list.index(y)\n",
    "        #print('class_index_in_node =', class_index_in_node)\n",
    "        #c == 0: left, c == 1: right\n",
    "        c = node.judgeInTrain(class_index_in_node)\n",
    "        #print('c =', c)\n",
    "        \n",
    "        #3:train\n",
    "        node.trainModel(x, c)\n",
    "        \n",
    "        #4:update e, n\n",
    "        c_hat = node.testModel(x)\n",
    "        node.updateExpectation(c_hat, class_index_in_node)\n",
    "        \n",
    "        #5:give birth if second class arrives at this node\n",
    "        if if_register and len(node.class_list) == 2:\n",
    "            self.giveBirth(node.node_index)\n",
    "            #the only previous class should be arranged to other child\n",
    "            #though it cannot be trained in an online algorithm\n",
    "            [node.left, node.right][1-c].addClass(node.class_list[0])\n",
    "            \n",
    "        #6:recursive down all the way to a leaf\n",
    "        del x, y, if_register, class_index_in_node, c_hat\n",
    "        if node.left != None:\n",
    "            self.onlineTrain(xy, [node.left, node.right][c])\n",
    "\n",
    "    def startOnlineTrain(self, xy):\n",
    "        self.onlineTrain(xy, self.root)\n",
    "\n",
    "    def onlineTest(self, x, node):\n",
    "        if len(node.class_list) == 1:\n",
    "            return node.class_list[0]\n",
    "        else:\n",
    "            return self.onlineTest(x, [node.left, node.right][node.judgeInTest(x)])\n",
    "\n",
    "    def startOnlineTest(self, x):\n",
    "        return self.onlineTest(x, self.root)"
   ]
  },
  {
   "cell_type": "code",
   "execution_count": 31,
   "metadata": {},
   "outputs": [
    {
     "name": "stdout",
     "output_type": "stream",
     "text": [
      "accurancy = 0.835\n"
     ]
    }
   ],
   "source": [
    "if __name__ == \"__main__\":\n",
    "    \n",
    "    #build\n",
    "    my_tree = Tree()\n",
    "    my_generator = isolet_generator()\n",
    "    \n",
    "    #train\n",
    "    for i in range(6797):\n",
    "        #print('\\nindex of sample i =', i)\n",
    "        my_tree.startOnlineTrain(next(my_generator))\n",
    "    \n",
    "    #test\n",
    "    test_result = []\n",
    "    for i in range(1000):\n",
    "        x, y = next(my_generator)\n",
    "        test_result.append(int(y == my_tree.startOnlineTest(x)))\n",
    "    accurancy = np.mean(test_result)\n",
    "    print('accurancy =', accurancy)"
   ]
  },
  {
   "cell_type": "code",
   "execution_count": 8,
   "metadata": {},
   "outputs": [
    {
     "ename": "SyntaxError",
     "evalue": "invalid syntax (<ipython-input-8-1e467de47dc6>, line 11)",
     "output_type": "error",
     "traceback": [
      "\u001b[0;36m  File \u001b[0;32m\"<ipython-input-8-1e467de47dc6>\"\u001b[0;36m, line \u001b[0;32m11\u001b[0m\n\u001b[0;31m    def updateC(self, )\u001b[0m\n\u001b[0m                       ^\u001b[0m\n\u001b[0;31mSyntaxError\u001b[0m\u001b[0;31m:\u001b[0m invalid syntax\n"
     ]
    }
   ],
   "source": [
    "def swap(self, node_index):\n",
    "    self.node=self.nodes[node_index]\n",
    "    self.pa=self.node.parent\n",
    "    self.gpa=self.pa.parent\n",
    "    self.sib = self.pa.right if self.pa.left == self.node else self.pa.left\n",
    "    if self.pa==self.gpa.left:\n",
    "        self.gpa.left=self.sib\n",
    "    else:\n",
    "        self.gpa.right=self.sib\n",
    "    updateC(self.sib)\n",
    "def updateC(self, )"
   ]
  },
  {
   "cell_type": "code",
   "execution_count": null,
   "metadata": {
    "collapsed": true
   },
   "outputs": [],
   "source": []
  },
  {
   "cell_type": "code",
   "execution_count": null,
   "metadata": {
    "collapsed": true
   },
   "outputs": [],
   "source": []
  }
 ],
 "metadata": {
  "kernelspec": {
   "display_name": "Python 3",
   "language": "python",
   "name": "python3"
  },
  "language_info": {
   "codemirror_mode": {
    "name": "ipython",
    "version": 3
   },
   "file_extension": ".py",
   "mimetype": "text/x-python",
   "name": "python",
   "nbconvert_exporter": "python",
   "pygments_lexer": "ipython3",
   "version": "3.6.1"
  }
 },
 "nbformat": 4,
 "nbformat_minor": 2
}
