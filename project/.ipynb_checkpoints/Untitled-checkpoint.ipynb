{
 "cells": [
  {
   "cell_type": "code",
   "execution_count": 58,
   "metadata": {
    "collapsed": true
   },
   "outputs": [],
   "source": [
    "import numpy as np\n",
    "#import math\n",
    "#import matplotlib\n",
    "#import matplotlib.pyplot as plt\n",
    "from IPython import get_ipython\n",
    "get_ipython().run_line_magic('matplotlib', 'inline')"
   ]
  },
  {
   "cell_type": "code",
   "execution_count": 59,
   "metadata": {},
   "outputs": [],
   "source": [
    "def mnist_generator():\n",
    "    \n",
    "    #load mnist\n",
    "    from sklearn.datasets import fetch_mldata\n",
    "    dataset = fetch_mldata(\"MNIST original\",data_home='Users/Irinaluu/Downloads/mnist-original.mat')\n",
    "    data_size = dataset.target.shape[0]\n",
    "    #permutation\n",
    "    shuffle = np.random.permutation(data_size)\n",
    "    data = dataset.data[shuffle]\n",
    "    label = dataset.target[shuffle]\n",
    "    del shuffle, dataset\n",
    "    \n",
    "    #normalize\n",
    "    data = data/np.reshape(np.std(data, axis=1), (data_size, 1))\n",
    "    data = data-np.reshape(np.mean(data, axis=1), (data_size, 1))\n",
    "    '''\n",
    "    #resize 784 to 28*28\n",
    "    data2 = np.zeros((data_size, 28, 28))\n",
    "    for i in range (data_size):\n",
    "    data2[i, ] = np.reshape(data[i, ], (28, 28))\n",
    "    data = data2\n",
    "    del data2\n",
    "    '''\n",
    "    for i in range(data_size):\n",
    "        yield (data[i], label[i])\n"
   ]
  },
  {
   "cell_type": "code",
   "execution_count": 111,
   "metadata": {
    "collapsed": true
   },
   "outputs": [],
   "source": [
    "class fc_with_sigmoid(object):\n",
    "    \n",
    "    def __init__(self):\n",
    "        self.w = .01*(np.random.rand(28**2+1)-.5)\n",
    "       #self.b0 = .01*(np.random.random()-.5)\n",
    "        \n",
    "    def test(self, x):\n",
    "        n=x.shape[0]\n",
    "        A=np.concatenate((np.array([1]),x),axis=0)\n",
    "        y_hat = A.dot(self.w)\n",
    "        #print('y_hat =', y_hat)\n",
    "        return 1/(1+np.exp(-y_hat))\n",
    "        \n",
    "    def train(self, x, c, lr=.0009):\n",
    "        n=x.shape[0]\n",
    "        A=np.concatenate((np.array([1]),x),axis=0)\n",
    "        y_hat = A.dot(self.w)\n",
    "        c_hat = 1/(1+np.exp(-y_hat))\n",
    "        #print('w_before =', self.w[:5])\n",
    "        fgrad=A.T.dot(c_hat-c)\n",
    "        #self.w = self.w - lr*(c_hat - c)/(np.exp(-y_hat)+1)/(np.exp(y_hat)+1)*A\n",
    "        self.w = self.w - lr*fgrad\n",
    "        #print('w_after =', self.w[:5])\n",
    "        #print('b0_before =', self.b0)"
   ]
  },
  {
   "cell_type": "code",
   "execution_count": 112,
   "metadata": {
    "collapsed": true
   },
   "outputs": [],
   "source": [
    "class node(object):\n",
    "    \n",
    "    def __init__(self, node_index):\n",
    "        self.left = None\n",
    "        self.right = None\n",
    "        self.parent = None\n",
    "        self.n_all = 0\n",
    "        self.e_all = 0\n",
    "        self.n = []\n",
    "        self.e = []\n",
    "        self.class_name = []\n",
    "        self.node_index = node_index\n",
    "        self.model = fc_with_sigmoid()\n",
    "        \n",
    "    def setLeft(self, node):\n",
    "        self.left = node\n",
    "\n",
    "    def setRight(self, node):\n",
    "        self.right = node\n",
    "        \n",
    "    def setParent(self, node):\n",
    "        self.parent = node\n",
    "        \n",
    "    def testModel(self, x):\n",
    "        return self.model.test(x)\n",
    "    \n",
    "    def trainModel(self, x, c):\n",
    "        self.model.train(x, c)\n",
    "        \n",
    "    def addClass(self, class_name):\n",
    "        self.n.append(0)\n",
    "        self.e.append(0)\n",
    "        self.class_name.append(class_name)\n",
    "        \n",
    "    def updateExpectation(self, c, class_index_in_node):\n",
    "        self.n_all = self.n_all + 1\n",
    "        self.e_all = self.e_all + c\n",
    "        self.n[class_index_in_node] = self.n[class_index_in_node] + 1\n",
    "        self.e[class_index_in_node] = self.e[class_index_in_node] + c\n",
    "        \n",
    "    def findExceptionAll(self):\n",
    "        if self.n_all == 0:\n",
    "            return 0\n",
    "        else:\n",
    "            return self.e_all/self.n_all\n",
    "        \n",
    "    def findExceptionOneClass(self, class_index_in_node):\n",
    "        if self.n[class_index_in_node] == 0:\n",
    "            return 0\n",
    "        else:\n",
    "            return self.e[class_index_in_node]/self.n[class_index_in_node]\n",
    "    \n",
    "    def judgeInTrain(self, class_index_in_node):\n",
    "        #c == 0: left, c == 1: right        \n",
    "        return int(self.findExceptionAll() <= self.findExceptionOneClass(class_index_in_node))\n",
    "    \n",
    "    def judgeInTest(self, x):\n",
    "        return int(self.findExceptionAll() <= self.testModel(x))"
   ]
  },
  {
   "cell_type": "code",
   "execution_count": 113,
   "metadata": {
    "collapsed": true
   },
   "outputs": [],
   "source": [
    "class tree(object):\n",
    "    def __init__(self):\n",
    "        self.nodes = []        \n",
    "        self.current_node_index = 0\n",
    "        self.root = node(self.current_node_index)\n",
    "        self.nodes.append(self.root)\n",
    "        self.current_node_index = self.current_node_index + 1\n",
    "        \n",
    "    def giveBirth(self, node_index):\n",
    "        #node_index is index of node in self.nodes, who is going to give birth to left and right\n",
    "        #two new born nodes would be appended at the end of self.nodes\n",
    "        self.nodes.append(node(self.current_node_index))\n",
    "        self.current_node_index = self.current_node_index + 1\n",
    "        self.nodes[node_index].setLeft(self.nodes[-1])\n",
    "        self.nodes[-1].setParent(self.nodes[node_index])\n",
    "        self.nodes.append(node(self.current_node_index))\n",
    "        self.current_node_index = self.current_node_index + 1\n",
    "        self.nodes[node_index].setRight(self.nodes[-1])\n",
    "        self.nodes[-1].setParent(self.nodes[node_index])\n",
    "\n",
    "    def onlineTrain(self, xy, node):\n",
    "        x, y = xy\n",
    "        #print('node_index =', node.node_index)\n",
    "        \n",
    "        #1:register if y is new in this node\n",
    "        if_register = (y not in node.class_name)\n",
    "        if if_register:\n",
    "            node.addClass(y)\n",
    "            \n",
    "        #2:judge (if current h(x) is above average)\n",
    "        class_index_in_node = node.class_name.index(y)\n",
    "        #print('class_index_in_node =', class_index_in_node)\n",
    "        #c == 0: left, c == 1: right\n",
    "        c = node.judgeInTrain(class_index_in_node)\n",
    "        #print('c =', c)\n",
    "        \n",
    "        #3:train\n",
    "        node.trainModel(x, c)\n",
    "        \n",
    "        #4:update e, n\n",
    "        c_hat = node.testModel(x)\n",
    "        node.updateExpectation(c_hat, class_index_in_node)\n",
    "        \n",
    "        #5:give birth if second class arrives at this node\n",
    "        if if_register and len(node.class_name) == 2:\n",
    "            self.giveBirth(node.node_index)\n",
    "            #the only previous class should be arranged to other child\n",
    "            #though it cannot be trained in an online algorithm\n",
    "            [node.left, node.right][1-c].addClass(node.class_name[0])\n",
    "            \n",
    "        #6:recursive down all the way to a leaf\n",
    "        del x, y, if_register, class_index_in_node, c_hat\n",
    "        if node.left != None:\n",
    "            self.onlineTrain(xy, [node.left, node.right][c])\n",
    "\n",
    "    def startOnlineTrain(self, xy):\n",
    "        self.onlineTrain(xy, self.root)\n",
    "\n",
    "    def onlineTest(self, x, node):\n",
    "        if len(node.class_name) == 1:\n",
    "            return node.class_name[0]\n",
    "        else:\n",
    "            return self.onlineTest(x, [node.left, node.right][node.judgeInTest(x)])\n",
    "\n",
    "    def startOnlineTest(self, x):\n",
    "        return self.onlineTest(x, self.root)"
   ]
  },
  {
   "cell_type": "code",
   "execution_count": 114,
   "metadata": {},
   "outputs": [
    {
     "name": "stdout",
     "output_type": "stream",
     "text": [
      "accurancy = 0.784\n"
     ]
    }
   ],
   "source": [
    "if __name__ == \"__main__\":\n",
    "    \n",
    "    #build\n",
    "    my_tree = tree()\n",
    "    my_generator = mnist_generator()\n",
    "    \n",
    "    #train\n",
    "    for i in range(1000):\n",
    "        #print('\\nindex of sample i =', i)\n",
    "        my_tree.startOnlineTrain(next(my_generator))\n",
    "    \n",
    "    #test\n",
    "    test_result = []\n",
    "    for i in range(1000):\n",
    "        x, y = next(my_generator)\n",
    "        test_result.append(int(y == my_tree.startOnlineTest(x)))\n",
    "    accurancy = np.mean(test_result)\n",
    "    print('accurancy =', accurancy)"
   ]
  },
  {
   "cell_type": "code",
   "execution_count": null,
   "metadata": {
    "collapsed": true
   },
   "outputs": [],
   "source": [
    "def swap(self, node_index):\n",
    "    self.node=self.nodes[node_index]\n",
    "    self.pa=self.node.parent\n",
    "    self.gpa=self.pa.parent\n",
    "    self.sib = self.pa.right if self.pa.left == self.node else self.pa.left\n",
    "    if self.pa==self.gpa.left:\n",
    "        self.gpa.left=self.sib\n",
    "    else:\n",
    "        self.gpa.right=self.sib\n",
    "    updateC(self.sib)\n",
    "def updateC(self, )"
   ]
  },
  {
   "cell_type": "code",
   "execution_count": null,
   "metadata": {
    "collapsed": true
   },
   "outputs": [],
   "source": []
  },
  {
   "cell_type": "code",
   "execution_count": null,
   "metadata": {
    "collapsed": true
   },
   "outputs": [],
   "source": []
  }
 ],
 "metadata": {
  "kernelspec": {
   "display_name": "Python 3",
   "language": "python",
   "name": "python3"
  },
  "language_info": {
   "codemirror_mode": {
    "name": "ipython",
    "version": 3
   },
   "file_extension": ".py",
   "mimetype": "text/x-python",
   "name": "python",
   "nbconvert_exporter": "python",
   "pygments_lexer": "ipython3",
   "version": "3.6.1"
  }
 },
 "nbformat": 4,
 "nbformat_minor": 2
}
